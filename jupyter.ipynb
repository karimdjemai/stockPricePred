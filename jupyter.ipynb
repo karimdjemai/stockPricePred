{
  "nbformat": 4,
  "nbformat_minor": 0,
  "metadata": {
    "kernelspec": {
      "display_name": "Python 3",
      "language": "python",
      "name": "python3"
    },
    "language_info": {
      "codemirror_mode": {
        "name": "ipython",
        "version": 3
      },
      "file_extension": ".py",
      "mimetype": "text/x-python",
      "name": "python",
      "nbconvert_exporter": "python",
      "pygments_lexer": "ipython3",
      "version": "3.6.6"
    },
    "colab": {
      "name": "TATA.ipynb",
      "provenance": [],
      "collapsed_sections": [],
      "toc_visible": true,
      "include_colab_link": true
    }
  },
  "cells": [
    {
      "cell_type": "markdown",
      "metadata": {
        "id": "view-in-github",
        "colab_type": "text"
      },
      "source": [
        "<a href=\"https://colab.research.google.com/github/karimdjemai/stockPricePred/blob/master/jupyter.ipynb\" target=\"_parent\"><img src=\"https://colab.research.google.com/assets/colab-badge.svg\" alt=\"Open In Colab\"/></a>"
      ]
    },
    {
      "cell_type": "markdown",
      "metadata": {
        "id": "NSZaStBsBizx",
        "colab_type": "text"
      },
      "source": [
        "# Stock Prices Prediction Using Keras Long Term Short Memory"
      ]
    },
    {
      "cell_type": "code",
      "metadata": {
        "id": "FRZwVS5xBizz",
        "colab_type": "code",
        "colab": {}
      },
      "source": [
        "# Part 1 - Data Preprocessing\n",
        "\n",
        "# Importing the libraries\n",
        "import numpy as np\n",
        "import matplotlib.pyplot as plt\n",
        "import pandas as pd"
      ],
      "execution_count": 0,
      "outputs": []
    },
    {
      "cell_type": "code",
      "metadata": {
        "id": "Z9bK6JObBiz_",
        "colab_type": "code",
        "colab": {}
      },
      "source": [
        "# Importing the training set\n",
        "dataset_train = pd.read_csv('train.csv')\n",
        "training_set = dataset_train.iloc[:, 1:2].values"
      ],
      "execution_count": 0,
      "outputs": []
    },
    {
      "cell_type": "code",
      "metadata": {
        "id": "dgscsXuaBi0E",
        "colab_type": "code",
        "outputId": "43416721-3c32-4bde-a26e-a547da562348",
        "colab": {
          "base_uri": "https://localhost:8080/",
          "height": 34
        }
      },
      "source": [
        "timesteps=168\n",
        "pred_steps=24\n",
        "train_length=training_set.flatten().size\n",
        "print(train_length)"
      ],
      "execution_count": 28,
      "outputs": [
        {
          "output_type": "stream",
          "text": [
            "25440\n"
          ],
          "name": "stdout"
        }
      ]
    },
    {
      "cell_type": "code",
      "metadata": {
        "id": "E25umKy4Bi0J",
        "colab_type": "code",
        "colab": {}
      },
      "source": [
        "# Feature Scaling\n",
        "from sklearn.preprocessing import MinMaxScaler\n",
        "sc = MinMaxScaler(feature_range = (0, 1))\n",
        "training_set_scaled = sc.fit_transform(training_set)"
      ],
      "execution_count": 0,
      "outputs": []
    },
    {
      "cell_type": "code",
      "metadata": {
        "id": "5zf8Y9HMBi0O",
        "colab_type": "code",
        "colab": {}
      },
      "source": [
        "# Creating a data structure with 60 timesteps and 1 output\n",
        "X_train = []\n",
        "y_train = []\n",
        "for i in range(timesteps, train_length-pred_steps):\n",
        "    X_train.append(training_set_scaled[i-timesteps:i, 0])\n",
        "    y_train.append(training_set_scaled[i:i+pred_steps, 0])\n",
        "X_train, y_train = np.array(X_train), np.array(y_train)"
      ],
      "execution_count": 0,
      "outputs": []
    },
    {
      "cell_type": "code",
      "metadata": {
        "id": "A3ScBm_5Bi0W",
        "colab_type": "code",
        "colab": {}
      },
      "source": [
        "# Reshaping\n",
        "X_train = np.reshape(X_train, (X_train.shape[0], X_train.shape[1], 1))"
      ],
      "execution_count": 0,
      "outputs": []
    },
    {
      "cell_type": "code",
      "metadata": {
        "id": "MhEHF3fIBi0Z",
        "colab_type": "code",
        "colab": {}
      },
      "source": [
        "# Part 2 - Building the RNN\n",
        "\n",
        "# Importing the Keras libraries and packages\n",
        "from keras.models import Sequential\n",
        "from keras.layers import Dense\n",
        "from keras.layers import LSTM\n",
        "from keras.layers import Dropout"
      ],
      "execution_count": 0,
      "outputs": []
    },
    {
      "cell_type": "code",
      "metadata": {
        "id": "K7aOwbusBi0e",
        "colab_type": "code",
        "colab": {}
      },
      "source": [
        "# Initialising the RNN\n",
        "regressor = Sequential()\n",
        "\n",
        "# Adding the first LSTM layer and some Dropout regularisation\n",
        "regressor.add(LSTM(units = 200, return_sequences = True, input_shape = (None, 1)))\n",
        "regressor.add(Dropout(0.2))"
      ],
      "execution_count": 0,
      "outputs": []
    },
    {
      "cell_type": "code",
      "metadata": {
        "id": "ReOgA3qHBi0z",
        "colab_type": "code",
        "colab": {}
      },
      "source": [
        "# Adding a fourth LSTM layer and some Dropout regularisation\n",
        "regressor.add(LSTM(units = 50))"
      ],
      "execution_count": 0,
      "outputs": []
    },
    {
      "cell_type": "code",
      "metadata": {
        "id": "0Qbr0M0GBi03",
        "colab_type": "code",
        "colab": {}
      },
      "source": [
        "# Adding the output layer\n",
        "regressor.add(Dense(units = 400))\n",
        "\n",
        "# Adding the output layer\n",
        "regressor.add(Dense(units = pred_steps))\n",
        "\n",
        "# Compiling the RNN\n",
        "regressor.compile(optimizer = 'adam', loss = 'mean_squared_error')\n",
        "\n",
        "# Fitting the RNN to the Training set\n",
        "regressor.fit(X_train, y_train, epochs = 10, batch_size = 32)"
      ],
      "execution_count": 0,
      "outputs": []
    },
    {
      "cell_type": "code",
      "metadata": {
        "id": "Ka_3GQZyBi07",
        "colab_type": "code",
        "outputId": "3e9d0896-af0a-4210-efd6-c1be321b4e15",
        "colab": {
          "base_uri": "https://localhost:8080/",
          "height": 241
        }
      },
      "source": [
        "# Part 3 - Making the predictions and visualising the results\n",
        "regressor.load_weights('model.h5')\n",
        "\n",
        "\n",
        "# Getting the real stock price of 2017\n",
        "dataset_test = pd.read_csv('test.csv')\n",
        "real_stock_price = dataset_test.iloc[:, 1:2].values"
      ],
      "execution_count": 36,
      "outputs": [
        {
          "output_type": "stream",
          "text": [
            "WARNING:tensorflow:From /usr/local/lib/python3.6/dist-packages/keras/backend/tensorflow_backend.py:190: The name tf.get_default_session is deprecated. Please use tf.compat.v1.get_default_session instead.\n",
            "\n",
            "WARNING:tensorflow:From /usr/local/lib/python3.6/dist-packages/keras/backend/tensorflow_backend.py:197: The name tf.ConfigProto is deprecated. Please use tf.compat.v1.ConfigProto instead.\n",
            "\n",
            "WARNING:tensorflow:From /usr/local/lib/python3.6/dist-packages/keras/backend/tensorflow_backend.py:203: The name tf.Session is deprecated. Please use tf.compat.v1.Session instead.\n",
            "\n",
            "WARNING:tensorflow:From /usr/local/lib/python3.6/dist-packages/keras/backend/tensorflow_backend.py:207: The name tf.global_variables is deprecated. Please use tf.compat.v1.global_variables instead.\n",
            "\n",
            "WARNING:tensorflow:From /usr/local/lib/python3.6/dist-packages/keras/backend/tensorflow_backend.py:216: The name tf.is_variable_initialized is deprecated. Please use tf.compat.v1.is_variable_initialized instead.\n",
            "\n",
            "WARNING:tensorflow:From /usr/local/lib/python3.6/dist-packages/keras/backend/tensorflow_backend.py:223: The name tf.variables_initializer is deprecated. Please use tf.compat.v1.variables_initializer instead.\n",
            "\n"
          ],
          "name": "stdout"
        }
      ]
    },
    {
      "cell_type": "code",
      "metadata": {
        "id": "9F34jIUKBi1A",
        "colab_type": "code",
        "colab": {}
      },
      "source": [
        "# Getting the predicted stock price of 2017\n",
        "dataset_total = pd.concat((dataset_train['Open'], dataset_test['Open']), axis = 0)\n",
        "inputs = dataset_total[len(dataset_total) - len(dataset_test) - timesteps:].values\n",
        "inputs = inputs.reshape(-1,1)\n",
        "\n",
        "inputs = sc.transform(inputs)\n",
        "\n",
        "X_test = []\n",
        "\n",
        "#for i in range(60, 61):\n",
        "#    X_test.append(inputs[i-60:i, 0])\n",
        "\n",
        "X_test.append(inputs[0:timesteps, 0])\n",
        "\n",
        "\n",
        "X_test = np.array(X_test)\n",
        "X_test = np.reshape(X_test, (X_test.shape[0], X_test.shape[1], 1))"
      ],
      "execution_count": 0,
      "outputs": []
    },
    {
      "cell_type": "code",
      "metadata": {
        "id": "sjIT5EXPqNF8",
        "colab_type": "code",
        "colab": {
          "base_uri": "https://localhost:8080/",
          "height": 425
        },
        "outputId": "112f9f21-fa89-4045-df2a-13efc358b7da"
      },
      "source": [
        "predicted_stock_price = []\n",
        "for i in range(0,2):\n",
        "  result = regressor.predict(X_test)[0]\n",
        "  predicted_stock_price = np.append(predicted_stock_price, result)\n",
        "  X_test = np.roll(X_test, -pred_steps)\n",
        "  np.append(X_test[0][0], result)\n",
        "\n",
        "#predicted_stock_price = regressor.predict(X_test)[0]\n",
        "\n",
        "predicted_stock_price = sc.inverse_transform(predicted_stock_price.reshape(-1, 1))\n",
        "\n",
        "print(predicted_stock_price[-24:])"
      ],
      "execution_count": 90,
      "outputs": [
        {
          "output_type": "stream",
          "text": [
            "[[121.86766229]\n",
            " [121.9609144 ]\n",
            " [121.61662735]\n",
            " [121.85202408]\n",
            " [121.76306376]\n",
            " [121.67350059]\n",
            " [121.62597796]\n",
            " [121.669727  ]\n",
            " [121.86944776]\n",
            " [121.67411114]\n",
            " [121.65003557]\n",
            " [121.62114745]\n",
            " [121.53479351]\n",
            " [121.54991353]\n",
            " [121.2937659 ]\n",
            " [121.53036319]\n",
            " [121.13599589]\n",
            " [121.37900906]\n",
            " [121.27021365]\n",
            " [121.44341922]\n",
            " [121.33654524]\n",
            " [121.38529923]\n",
            " [121.30321398]\n",
            " [121.41698355]]\n"
          ],
          "name": "stdout"
        }
      ]
    },
    {
      "cell_type": "code",
      "metadata": {
        "id": "lFoQ9Pgn7AFA",
        "colab_type": "code",
        "colab": {}
      },
      "source": [
        "predicted_stock_price = predicted_stock_price + np.ones_like(predicted_stock_price)"
      ],
      "execution_count": 0,
      "outputs": []
    },
    {
      "cell_type": "code",
      "metadata": {
        "id": "-JAjJ47iBi1E",
        "colab_type": "code",
        "outputId": "80295980-def0-4ad8-c9db-8ad41d08d6f5",
        "colab": {
          "base_uri": "https://localhost:8080/",
          "height": 366
        }
      },
      "source": [
        "# Visualising the results\n",
        "plt.plot(real_stock_price[:-24], color = 'red', label = 'Real SAP Stock Price')\n",
        "plt.plot(predicted_stock_price, color = 'blue', label = 'Predicted SAP Stock Price')\n",
        "#plt.plot(training_set[-24:], color = 'black', label = 'Historical SAP Stock Price')\n",
        "#plt.plot(training_set[-168:], color='green', label = 'Historical SAP Stock Price')\n",
        "plt.title('SAP Stock Price Prediction')\n",
        "plt.xlabel('Time in Hours')\n",
        "plt.ylabel('SAP Stock Price')\n",
        "plt.legend()\n",
        "plt.savefig('predicted_train.svg', dpi=200, facecolor='w', edgecolor='w',\n",
        "        orientation='landscape', papertype=None, format='svg',\n",
        "        transparent=True, bbox_inches=None, pad_inches=0.1,\n",
        "        frameon=None, metadata=None)\n",
        "plt.show()"
      ],
      "execution_count": 88,
      "outputs": [
        {
          "output_type": "stream",
          "text": [
            "/usr/local/lib/python3.6/dist-packages/ipykernel_launcher.py:12: MatplotlibDeprecationWarning: \n",
            "The frameon kwarg was deprecated in Matplotlib 3.1 and will be removed in 3.3. Use facecolor instead.\n",
            "  if sys.path[0] == '':\n"
          ],
          "name": "stderr"
        },
        {
          "output_type": "display_data",
          "data": {
            "image/png": "[encoded data removed]",
            "text/plain": [
              "<Figure size 432x288 with 1 Axes>"
            ]
          },
          "metadata": {
            "tags": []
          }
        }
      ]
    },
    {
      "cell_type": "code",
      "metadata": {
        "id": "RjorSQ7nBi1I",
        "colab_type": "code",
        "colab": {}
      },
      "source": [
        "\n",
        "regressor.save('model.h5')"
      ],
      "execution_count": 0,
      "outputs": []
    }
  ]
}